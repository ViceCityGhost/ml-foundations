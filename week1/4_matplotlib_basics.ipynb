{
 "cells": [
  {
   "cell_type": "markdown",
   "id": "263eb99d",
   "metadata": {},
   "source": [
    "# 🔹 Matplotlib Basics\n",
    "\n",
    "Topics:\n",
    "- plt.plot(), plt.hist(), plt.bar()\n",
    "- Customize with title, labels, color\n",
    "\n",
    "---\n",
    "\n",
    "Use visuals based on tips data here..."
   ]
  }
 ],
 "metadata": {},
 "nbformat": 4,
 "nbformat_minor": 5
}
