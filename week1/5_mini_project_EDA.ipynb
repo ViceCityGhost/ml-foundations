{
 "cells": [
  {
   "cell_type": "markdown",
   "id": "c599c9ae",
   "metadata": {},
   "source": [
    "# 🔹 Mini Project: EDA on Tips Dataset\n",
    "\n",
    "Tasks:\n",
    "- Average tip by gender\n",
    "- Do smokers tip more?\n",
    "- Highest average total bill day\n",
    "\n",
    "Visuals:\n",
    "- Histogram of tips\n",
    "- Bar chart of avg tip per gender\n",
    "- Line plot of total_bill over index\n",
    "\n",
    "---\n",
    "\n",
    "Write your findings and visual code here..."
   ]
  }
 ],
 "metadata": {},
 "nbformat": 4,
 "nbformat_minor": 5
}
