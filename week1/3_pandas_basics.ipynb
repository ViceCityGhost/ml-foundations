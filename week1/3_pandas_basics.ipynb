{
 "cells": [
  {
   "cell_type": "markdown",
   "id": "72c3e6ea",
   "metadata": {},
   "source": [
    "# 🔹 Pandas Basics\n",
    "\n",
    "Topics:\n",
    "- pd.read_csv\n",
    "- df.head(), df.describe()\n",
    "- Filtering rows\n",
    "- groupby\n",
    "\n",
    "---\n",
    "\n",
    "Paste code using the tips dataset here..."
   ]
  }
 ],
 "metadata": {},
 "nbformat": 4,
 "nbformat_minor": 5
}
