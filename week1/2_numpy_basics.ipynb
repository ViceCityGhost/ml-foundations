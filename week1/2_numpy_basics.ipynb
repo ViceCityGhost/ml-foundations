{
 "cells": [
  {
   "cell_type": "markdown",
   "id": "9c27bfe0",
   "metadata": {},
   "source": [
    "# 🔹 NumPy Basics\n",
    "\n",
    "Topics:\n",
    "- np.array\n",
    "- np.mean, np.std\n",
    "- slicing\n",
    "\n",
    "---\n",
    "\n",
    "Add your NumPy code examples and outputs here..."
   ]
  }
 ],
 "metadata": {},
 "nbformat": 4,
 "nbformat_minor": 5
}
