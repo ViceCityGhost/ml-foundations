{
 "cells": [
  {
   "cell_type": "markdown",
   "id": "01ae5b4c",
   "metadata": {},
   "source": [
    "\n",
    "# Week 7 — Serve an ML Model with Flask (VS Code / JupyterLab Friendly)\n",
    "\n",
    "This notebook creates a minimal Flask web app to serve a trained scikit-learn model.\n",
    "No `%%writefile` magic is used — files are created with regular Python `open(..., \"w\")` calls.\n",
    "\n",
    "**What you’ll build**\n",
    "- `model.pkl` — trained Iris classifier pipeline\n",
    "- `schema.json` — feature names/order + class names\n",
    "- `app.py` — Flask server with `/` and `/predict`\n",
    "- `templates/index.html` — simple HTML form\n",
    "- `requirements.txt`, `Procfile`, `README.md` — deployment & docs\n",
    "\n",
    "> Run each cell top-to-bottom. The last cell launches the server.\n"
   ]
  },
  {
   "cell_type": "markdown",
   "id": "284f07de",
   "metadata": {},
   "source": [
    "## 1) Create a project folder and enter it"
   ]
  },
  {
   "cell_type": "code",
   "execution_count": 1,
   "id": "c58899ac",
   "metadata": {},
   "outputs": [
    {
     "name": "stdout",
     "output_type": "stream",
     "text": [
      "Working in: /Users/vicev/Downloads/Week7_FlaskApp\n"
     ]
    }
   ],
   "source": [
    "\n",
    "# Purpose: make a clean workspace for the Flask app and move into it\n",
    "import os, pathlib\n",
    "proj = pathlib.Path(\"Week7_FlaskApp\")\n",
    "proj.mkdir(exist_ok=True)\n",
    "os.chdir(proj)\n",
    "print(\"Working in:\", os.getcwd())\n"
   ]
  },
  {
   "cell_type": "markdown",
   "id": "ed2ac5f8",
   "metadata": {},
   "source": [
    "## 2) Install dependencies"
   ]
  },
  {
   "cell_type": "code",
   "execution_count": 2,
   "id": "c1e01157",
   "metadata": {},
   "outputs": [],
   "source": [
    "\n",
    "# Purpose: install everything needed to train + serve the model\n",
    "# (If these are already installed, pip will skip reinstallation.)\n",
    "!pip install -q flask joblib scikit-learn numpy\n"
   ]
  },
  {
   "cell_type": "markdown",
   "id": "2bb21135",
   "metadata": {},
   "source": [
    "## 3) Train a model (Iris) and save it + schema"
   ]
  },
  {
   "cell_type": "code",
   "execution_count": 3,
   "id": "6f06e6da",
   "metadata": {},
   "outputs": [
    {
     "name": "stdout",
     "output_type": "stream",
     "text": [
      "✅ Saved model.pkl and schema.json\n"
     ]
    }
   ],
   "source": [
    "\n",
    "# Purpose: train a small model pipeline and save:\n",
    "#   - model.pkl (for Flask to load)\n",
    "#   - schema.json (feature names/order + class names for the UI)\n",
    "\n",
    "from sklearn.datasets import load_iris\n",
    "from sklearn.pipeline import Pipeline\n",
    "from sklearn.preprocessing import StandardScaler\n",
    "from sklearn.linear_model import LogisticRegression\n",
    "import joblib, json\n",
    "\n",
    "# Load dataset\n",
    "iris = load_iris()\n",
    "X, y = iris.data, iris.target\n",
    "feature_names = [\"sepal_length\", \"sepal_width\", \"petal_length\", \"petal_width\"]\n",
    "class_names = iris.target_names.tolist()  # ['setosa','versicolor','virginica']\n",
    "\n",
    "# Simple pipeline\n",
    "pipe = Pipeline([\n",
    "    (\"scaler\", StandardScaler()),\n",
    "    (\"lr\", LogisticRegression(max_iter=1000))\n",
    "])\n",
    "pipe.fit(X, y)\n",
    "\n",
    "# Save model\n",
    "joblib.dump(pipe, \"model.pkl\")\n",
    "\n",
    "# Save schema describing the features the UI should show (order matters!)\n",
    "schema = {\n",
    "    \"features\": [\n",
    "        {\"name\": \"sepal_length\", \"label\": \"Sepal Length (cm)\"},\n",
    "        {\"name\": \"sepal_width\",  \"label\": \"Sepal Width (cm)\"},\n",
    "        {\"name\": \"petal_length\", \"label\": \"Petal Length (cm)\"},\n",
    "        {\"name\": \"petal_width\",  \"label\": \"Petal Width (cm)\"}\n",
    "    ],\n",
    "    \"class_names\": class_names\n",
    "}\n",
    "with open(\"schema.json\", \"w\") as f:\n",
    "    json.dump(schema, f, indent=2)\n",
    "\n",
    "print(\"✅ Saved model.pkl and schema.json\")\n"
   ]
  },
  {
   "cell_type": "markdown",
   "id": "1a3f3eb3",
   "metadata": {},
   "source": [
    "## 4) Create the Flask app (`app.py`)"
   ]
  },
  {
   "cell_type": "code",
   "execution_count": 4,
   "id": "2352d78e",
   "metadata": {},
   "outputs": [
    {
     "name": "stdout",
     "output_type": "stream",
     "text": [
      "✅ Wrote app.py\n"
     ]
    }
   ],
   "source": [
    "\n",
    "# Purpose: write app.py using standard Python file I/O (works in VS Code / JupyterLab)\n",
    "app_py = \"\"\"from flask import Flask, render_template, request\n",
    "import joblib, json\n",
    "import numpy as np\n",
    "\n",
    "app = Flask(__name__)\n",
    "\n",
    "# Load model and schema once at startup\n",
    "model = joblib.load(\"model.pkl\")\n",
    "with open(\"schema.json\") as f:\n",
    "    schema = json.load(f)\n",
    "FEATURES = [f[\"name\"] for f in schema[\"features\"]]\n",
    "CLASS_NAMES = schema[\"class_names\"]\n",
    "\n",
    "@app.route(\"/\", methods=[\"GET\"])\n",
    "def home():\n",
    "    # Pass schema to template so it can render fields dynamically\n",
    "    return render_template(\"index.html\", features=schema[\"features\"], prediction=None, values={})\n",
    "\n",
    "@app.route(\"/predict\", methods=[\"POST\"])\n",
    "def predict():\n",
    "    try:\n",
    "        # Read features in the exact order specified by schema\n",
    "        values = {}\n",
    "        row = []\n",
    "        for f in FEATURES:\n",
    "            raw = request.form.get(f, \"\").strip()\n",
    "            values[f] = raw\n",
    "            row.append(float(raw))\n",
    "        pred_idx = model.predict([row])[0]\n",
    "        pred_label = CLASS_NAMES[int(pred_idx)]\n",
    "        return render_template(\"index.html\", features=schema[\"features\"], prediction=f\"Prediction: {pred_label}\", values=values)\n",
    "    except Exception as e:\n",
    "        return render_template(\"index.html\", features=schema[\"features\"], prediction=f\"Error: {e}\", values=request.form)\n",
    "\n",
    "if __name__ == \"__main__\":\n",
    "    # For local development\n",
    "    app.run(debug=True)\n",
    "\"\"\"\n",
    "with open(\"app.py\", \"w\", encoding=\"utf-8\") as f:\n",
    "    f.write(app_py)\n",
    "\n",
    "print(\"✅ Wrote app.py\")\n"
   ]
  },
  {
   "cell_type": "markdown",
   "id": "7d951bf4",
   "metadata": {},
   "source": [
    "## 5) Create the HTML template (`templates/index.html`)"
   ]
  },
  {
   "cell_type": "code",
   "execution_count": 5,
   "id": "e2d61398",
   "metadata": {},
   "outputs": [
    {
     "name": "stdout",
     "output_type": "stream",
     "text": [
      "✅ Wrote templates/index.html\n"
     ]
    }
   ],
   "source": [
    "\n",
    "# Purpose: simple UI with number inputs bound to the schema features\n",
    "# Tip: Jinja loop renders inputs for any features defined in schema.json\n",
    "import os, pathlib\n",
    "pathlib.Path(\"templates\").mkdir(exist_ok=True)\n",
    "\n",
    "html = \"\"\"<!DOCTYPE html>\n",
    "<html>\n",
    "<head>\n",
    "  <meta charset=\"utf-8\"/>\n",
    "  <title>ML Predictor</title>\n",
    "  <style>\n",
    "    body { font-family: Arial, sans-serif; max-width: 720px; margin: 48px auto; }\n",
    "    h1 { margin-bottom: 8px; }\n",
    "    .card { padding: 20px; border: 1px solid #eee; border-radius: 12px; box-shadow: 0 2px 10px rgba(0,0,0,0.04); }\n",
    "    .row { display: grid; grid-template-columns: 1fr 1fr; gap: 12px; margin: 12px 0; }\n",
    "    label { display: block; font-size: 14px; margin-bottom: 4px; }\n",
    "    input { width: 100%; padding: 10px; border-radius: 8px; border: 1px solid #ccc; }\n",
    "    button { padding: 10px 16px; border: none; border-radius: 8px; cursor: pointer; }\n",
    "    .primary { background: #111; color: #fff; }\n",
    "    .result { margin-top: 16px; font-weight: bold; }\n",
    "  </style>\n",
    "</head>\n",
    "<body>\n",
    "  <h1>🧠 Machine Learning Predictor</h1>\n",
    "  <p>Enter feature values and get a prediction.</p>\n",
    "  <div class=\"card\">\n",
    "    <form action=\"/predict\" method=\"post\">\n",
    "      <div class=\"row\">\n",
    "        {% for f in features %}\n",
    "          <div>\n",
    "            <label for=\"{{ f.name }}\">{{ f.label }}</label>\n",
    "            <input type=\"number\" step=\"any\" name=\"{{ f.name }}\" id=\"{{ f.name }}\" placeholder=\"{{ f.label }}\"\n",
    "                   value=\"{{ values.get(f.name, '') }}\" required>\n",
    "          </div>\n",
    "        {% endfor %}\n",
    "      </div>\n",
    "      <button class=\"primary\" type=\"submit\">Predict</button>\n",
    "    </form>\n",
    "    {% if prediction %}\n",
    "      <div class=\"result\">{{ prediction }}</div>\n",
    "    {% endif %}\n",
    "  </div>\n",
    "</body>\n",
    "</html>\n",
    "\"\"\"\n",
    "with open(\"templates/index.html\", \"w\", encoding=\"utf-8\") as f:\n",
    "    f.write(html)\n",
    "\n",
    "print(\"✅ Wrote templates/index.html\")\n"
   ]
  },
  {
   "cell_type": "markdown",
   "id": "b0dba828",
   "metadata": {},
   "source": [
    "## 7) (Optional) Write a README with quickstart"
   ]
  },
  {
   "cell_type": "code",
   "execution_count": 7,
   "id": "0624a4c1",
   "metadata": {},
   "outputs": [
    {
     "name": "stdout",
     "output_type": "stream",
     "text": [
      "✅ Wrote README.md\n"
     ]
    }
   ],
   "source": [
    "\n",
    "# Purpose: doc for your repo + quick run steps\n",
    "readme = \"\"\"# Week 7 — Serve an ML Model with Flask\n",
    "\n",
    "This demo trains a small Iris classifier and serves it via Flask.\n",
    "\n",
    "## Quickstart (Local)\n",
    "```bash\n",
    "pip install -r requirements.txt\n",
    "python app.py\n",
    "# open http://127.0.0.1:5000/\n",
    "```\n",
    "\n",
    "## Project Layout\n",
    "```\n",
    "Week7_FlaskApp/\n",
    "├─ app.py\n",
    "├─ model.pkl\n",
    "├─ schema.json\n",
    "├─ requirements.txt\n",
    "└─ templates/\n",
    "   └─ index.html\n",
    "```\n",
    "\n",
    "## How it Works\n",
    "- `model.pkl`: scikit-learn pipeline (StandardScaler + LogisticRegression)\n",
    "- `schema.json`: lists feature names/order + class names for display\n",
    "- `index.html`: renders inputs dynamically from schema\n",
    "- `app.py`: loads model & schema, predicts from form inputs\n",
    "\"\"\"\n",
    "with open(\"README.md\", \"w\") as f:\n",
    "    f.write(readme)\n",
    "print(\"✅ Wrote README.md\")\n"
   ]
  },
  {
   "cell_type": "markdown",
   "id": "4f00e658",
   "metadata": {},
   "source": [
    "## 8) Run the Flask app locally"
   ]
  },
  {
   "cell_type": "code",
   "execution_count": 8,
   "id": "040ae846",
   "metadata": {},
   "outputs": [
    {
     "name": "stdout",
     "output_type": "stream",
     "text": [
      " * Serving Flask app 'app'\n",
      " * Debug mode: on\n",
      "\u001b[31m\u001b[1mWARNING: This is a development server. Do not use it in a production deployment. Use a production WSGI server instead.\u001b[0m\n",
      " * Running on http://127.0.0.1:5000\n",
      "\u001b[33mPress CTRL+C to quit\u001b[0m\n",
      " * Restarting with watchdog (fsevents)\n",
      " * Debugger is active!\n",
      " * Debugger PIN: 108-044-395\n",
      "127.0.0.1 - - [07/Oct/2025 23:54:04] \"GET / HTTP/1.1\" 200 -\n",
      "127.0.0.1 - - [07/Oct/2025 23:54:04] \"\u001b[33mGET /favicon.ico HTTP/1.1\u001b[0m\" 404 -\n",
      "127.0.0.1 - - [07/Oct/2025 23:54:15] \"POST /predict HTTP/1.1\" 200 -\n",
      "^C\n"
     ]
    }
   ],
   "source": [
    "\n",
    "# Purpose: launch the web server locally\n",
    "# NOTE: This blocks the notebook while the server runs.\n",
    "# Stop it with the stop button or interrupt kernel when you're done.\n",
    "!python3 app.py\n"
   ]
  },
  {
   "cell_type": "markdown",
   "id": "456e5b44",
   "metadata": {},
   "source": [
    "\n",
    "## (Optional) Swap in your own model (e.g., Titanic)\n",
    "\n",
    "Replace the training cell with your own code that saves a compatible `model.pkl` and writes a matching `schema.json` (feature names, order, class names).\n"
   ]
  },
  {
   "cell_type": "code",
   "execution_count": null,
   "id": "e0ad15d6",
   "metadata": {},
   "outputs": [],
   "source": [
    "\n",
    "# Example schema writer for a Titanic model (run after you train & save your Titanic model):\n",
    "# import joblib, json\n",
    "# joblib.dump(your_pipeline_or_model, \"model.pkl\")\n",
    "#\n",
    "# schema = {\n",
    "#   \"features\": [\n",
    "#     {\"name\": \"Pclass\", \"label\": \"Passenger Class\"},\n",
    "#     {\"name\": \"Sex\", \"label\": \"Sex (0=female,1=male)\"},\n",
    "#     {\"name\": \"Age\", \"label\": \"Age\"},\n",
    "#     {\"name\": \"Fare\", \"label\": \"Fare\"}\n",
    "#     # ...add all features your model expects, in order\n",
    "#   ],\n",
    "#   \"class_names\": [\"not_survived\",\"survived\"]\n",
    "# }\n",
    "# with open(\"schema.json\",\"w\") as f:\n",
    "#     json.dump(schema, f, indent=2)\n",
    "#\n",
    "# After updating schema/model, you can rerun the app without changing app.py or the template.\n",
    "print(\"This cell is an example snippet. Customize for your own model if needed.\")\n"
   ]
  }
 ],
 "metadata": {
  "kernelspec": {
   "display_name": "base",
   "language": "python",
   "name": "python3"
  },
  "language_info": {
   "codemirror_mode": {
    "name": "ipython",
    "version": 3
   },
   "file_extension": ".py",
   "mimetype": "text/x-python",
   "name": "python",
   "nbconvert_exporter": "python",
   "pygments_lexer": "ipython3",
   "version": "3.12.7"
  }
 },
 "nbformat": 4,
 "nbformat_minor": 5
}
