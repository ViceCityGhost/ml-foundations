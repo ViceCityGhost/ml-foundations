{
 "cells": [
  {
   "cell_type": "markdown",
   "id": "4d63fbc1",
   "metadata": {},
   "source": [
    "# Week 1: Python, NumPy, Pandas, Matplotlib Basics\n",
    "Welcome to Week 1 of your ML journey! This notebook covers:\n",
    "- Python basics\n",
    "- NumPy for numerical computation\n",
    "- Pandas for data analysis\n",
    "- Matplotlib for data visualization\n",
    "\n",
    "Fill in code and notes as you go."
   ]
  },
  {
   "cell_type": "markdown",
   "id": "6733d6bc",
   "metadata": {},
   "source": [
    "## 🔹 Python Refresher"
   ]
  },
  {
   "cell_type": "code",
   "execution_count": null,
   "id": "1b5ab51f",
   "metadata": {},
   "outputs": [
    {
     "name": "stdout",
     "output_type": "stream",
     "text": [
      "2\n",
      "4\n",
      "6\n",
      "8\n",
      "9\n"
     ]
    }
   ],
   "source": [
    "# Variables and types\n",
    "x = 5\n",
    "name = \"Alice\"\n",
    "\n",
    "# Lists and loops\n",
    "numbers = [1, 2, 3, 4]\n",
    "for num in numbers:\n",
    "    print(num * 2)\n",
    "\n",
    "# Functions\n",
    "def square(n):\n",
    "    return n ** 2\n",
    "\n",
    "print(square(3))"
   ]
  },
  {
   "cell_type": "markdown",
   "id": "a68ebdc6",
   "metadata": {},
   "source": [
    "## 🔹 NumPy Basics"
   ]
  },
  {
   "cell_type": "code",
   "execution_count": null,
   "id": "02a8f3e5",
   "metadata": {},
   "outputs": [
    {
     "name": "stdout",
     "output_type": "stream",
     "text": [
      "[5 7 9]\n",
      "Mean: 2.0\n",
      "Standard Deviation: 0.816496580927726\n"
     ]
    }
   ],
   "source": [
    "import numpy as np\n",
    "\n",
    "# Create arrays\n",
    "a = np.array([1, 2, 3])\n",
    "b = np.array([4, 5, 6])\n",
    "print(a + b)\n",
    "\n",
    "# Stats\n",
    "print(\"Mean:\", np.mean(a))\n",
    "print(\"Standard Deviation:\", np.std(a))"
   ]
  },
  {
   "cell_type": "markdown",
   "id": "1d405992",
   "metadata": {},
   "source": [
    "## 🔹 Pandas Basics"
   ]
  },
  {
   "cell_type": "code",
   "execution_count": 4,
   "id": "c38026c1",
   "metadata": {},
   "outputs": [
    {
     "name": "stdout",
     "output_type": "stream",
     "text": [
      "   total_bill   tip     sex smoker  day    time  size\n",
      "0       16.99  1.01  Female     No  Sun  Dinner     2\n",
      "1       10.34  1.66    Male     No  Sun  Dinner     3\n",
      "2       21.01  3.50    Male     No  Sun  Dinner     3\n",
      "3       23.68  3.31    Male     No  Sun  Dinner     2\n",
      "4       24.59  3.61  Female     No  Sun  Dinner     4\n",
      "sex\n",
      "Female    3.800370\n",
      "Male      3.979286\n",
      "Name: tip, dtype: float64\n"
     ]
    }
   ],
   "source": [
    "import pandas as pd\n",
    "\n",
    "# Load dataset\n",
    "df = pd.read_csv('https://raw.githubusercontent.com/mwaskom/seaborn-data/master/tips.csv')\n",
    "print(df.head())\n",
    "\n",
    "# Filter and group\n",
    "df_filtered = df[df['total_bill'] > 20]\n",
    "print(df_filtered.groupby('sex')['tip'].mean())"
   ]
  },
  {
   "cell_type": "markdown",
   "id": "29e1a6ce",
   "metadata": {},
   "source": [
    "## 🔹 Matplotlib Visualizations"
   ]
  },
  {
   "cell_type": "code",
   "execution_count": null,
   "id": "be0d68de",
   "metadata": {},
   "outputs": [],
   "source": [
    "import matplotlib.pyplot as plt\n",
    "\n",
    "x = [1, 2, 3]\n",
    "y = [2, 4, 6]\n",
    "plt.plot(x, y)\n",
    "plt.title(\"Line Plot\")\n",
    "plt.xlabel(\"X Axis\")\n",
    "plt.ylabel(\"Y Axis\")\n",
    "plt.show()"
   ]
  },
  {
   "cell_type": "code",
   "execution_count": null,
   "id": "afd578bd-a4b0-4851-8a9e-693f95d4d006",
   "metadata": {},
   "outputs": [],
   "source": [
    "## Exercises "
   ]
  },
  {
   "cell_type": "code",
   "execution_count": 5,
   "id": "d6c797f1-b9e4-4de2-881d-b1826e3e26e5",
   "metadata": {},
   "outputs": [
    {
     "name": "stdout",
     "output_type": "stream",
     "text": [
      "olleh\n"
     ]
    }
   ],
   "source": [
    "# Reverse String\n",
    "def reverse_string(s):\n",
    "    return s[::-1]\n",
    "\n",
    "print(reverse_string(\"hello\"))  # \"olleh\"\n"
   ]
  },
  {
   "cell_type": "code",
   "execution_count": 1,
   "id": "15d33c94-79f5-4481-8946-a5f0b5b56c0f",
   "metadata": {},
   "outputs": [
    {
     "name": "stdout",
     "output_type": "stream",
     "text": [
      "2\n",
      "4\n",
      "6\n",
      "8\n",
      "10\n",
      "12\n",
      "14\n",
      "16\n",
      "18\n",
      "20\n",
      "22\n",
      "24\n",
      "26\n",
      "28\n",
      "30\n",
      "32\n",
      "34\n",
      "36\n",
      "38\n",
      "40\n",
      "42\n",
      "44\n",
      "46\n",
      "48\n",
      "50\n",
      "52\n",
      "54\n",
      "56\n",
      "58\n",
      "60\n",
      "62\n",
      "64\n",
      "66\n",
      "68\n",
      "70\n",
      "72\n",
      "74\n",
      "76\n",
      "78\n",
      "80\n",
      "82\n",
      "84\n",
      "86\n",
      "88\n",
      "90\n",
      "92\n",
      "94\n",
      "96\n",
      "98\n",
      "100\n"
     ]
    }
   ],
   "source": [
    "# Print even numbers 1–100\n",
    "for i in range(1, 101):\n",
    "    if i % 2 == 0:\n",
    "        print(i)\n"
   ]
  },
  {
   "cell_type": "code",
   "execution_count": 6,
   "id": "a3f8f614-2ce6-42a1-9c74-1ffc789c9a6a",
   "metadata": {},
   "outputs": [
    {
     "name": "stdout",
     "output_type": "stream",
     "text": [
      "Alice\n",
      "Charlie\n"
     ]
    }
   ],
   "source": [
    "# ✅ Students with grade > 80\n",
    "students = {\"Alice\": 85, \"Bob\": 72, \"Charlie\": 90}\n",
    "for name, grade in students.items():\n",
    "    if grade > 80:\n",
    "        print(name)\n"
   ]
  },
  {
   "cell_type": "code",
   "execution_count": null,
   "id": "71aa8d2a-3d17-4a0c-8575-5e6b03d0e9ae",
   "metadata": {},
   "outputs": [],
   "source": [
    "# List of squares from 1 to 10\n",
    "squares = [x**2 for x in range(1, 11)]\n",
    "print(squares)\n"
   ]
  },
  {
   "cell_type": "markdown",
   "id": "81589887",
   "metadata": {},
   "source": [
    "## 🔹 Mini Project: EDA on Tips Dataset\n",
    "\n",
    "Answer these questions using Pandas and visualizations:\n",
    "- What’s the average total bill per day?\n",
    "- What gender tips more?\n",
    "- Are smokers paying more?\n",
    "\n",
    "Include visualizations to support your answers."
   ]
  }
 ],
 "metadata": {
  "kernelspec": {
   "display_name": "Python 3",
   "language": "python",
   "name": "python3"
  },
  "language_info": {
   "codemirror_mode": {
    "name": "ipython",
    "version": 3
   },
   "file_extension": ".py",
   "mimetype": "text/x-python",
   "name": "python",
   "nbconvert_exporter": "python",
   "pygments_lexer": "ipython3",
   "version": "3.12.8"
  }
 },
 "nbformat": 4,
 "nbformat_minor": 5
}
