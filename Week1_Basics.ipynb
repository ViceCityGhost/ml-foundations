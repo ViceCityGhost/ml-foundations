{
 "cells": [
  {
   "cell_type": "markdown",
   "id": "4d63fbc1",
   "metadata": {},
   "source": [
    "# Week 1: Python, NumPy, Pandas, Matplotlib Basics\n",
    "Welcome to Week 1 of your ML journey! This notebook covers:\n",
    "- Python basics\n",
    "- NumPy for numerical computation\n",
    "- Pandas for data analysis\n",
    "- Matplotlib for data visualization\n",
    "\n",
    "Fill in code and notes as you go."
   ]
  },
  {
   "cell_type": "markdown",
   "id": "6733d6bc",
   "metadata": {},
   "source": [
    "## 🔹 Python Refresher"
   ]
  },
  {
   "cell_type": "code",
   "execution_count": null,
   "id": "1b5ab51f",
   "metadata": {},
   "outputs": [],
   "source": [
    "# Variables and types\n",
    "x = 5\n",
    "name = \"Alice\"\n",
    "\n",
    "# Lists and loops\n",
    "numbers = [1, 2, 3, 4]\n",
    "for num in numbers:\n",
    "    print(num * 2)\n",
    "\n",
    "# Functions\n",
    "def square(n):\n",
    "    return n ** 2\n",
    "\n",
    "print(square(3))"
   ]
  },
  {
   "cell_type": "markdown",
   "id": "a68ebdc6",
   "metadata": {},
   "source": [
    "## 🔹 NumPy Basics"
   ]
  },
  {
   "cell_type": "code",
   "execution_count": null,
   "id": "02a8f3e5",
   "metadata": {},
   "outputs": [],
   "source": [
    "import numpy as np\n",
    "\n",
    "# Create arrays\n",
    "a = np.array([1, 2, 3])\n",
    "b = np.array([4, 5, 6])\n",
    "print(a + b)\n",
    "\n",
    "# Stats\n",
    "print(\"Mean:\", np.mean(a))\n",
    "print(\"Standard Deviation:\", np.std(a))"
   ]
  },
  {
   "cell_type": "markdown",
   "id": "1d405992",
   "metadata": {},
   "source": [
    "## 🔹 Pandas Basics"
   ]
  },
  {
   "cell_type": "code",
   "execution_count": null,
   "id": "c38026c1",
   "metadata": {},
   "outputs": [],
   "source": [
    "import pandas as pd\n",
    "\n",
    "# Load dataset\n",
    "df = pd.read_csv('https://raw.githubusercontent.com/mwaskom/seaborn-data/master/tips.csv')\n",
    "print(df.head())\n",
    "\n",
    "# Filter and group\n",
    "df_filtered = df[df['total_bill'] > 20]\n",
    "print(df_filtered.groupby('sex')['tip'].mean())"
   ]
  },
  {
   "cell_type": "markdown",
   "id": "29e1a6ce",
   "metadata": {},
   "source": [
    "## 🔹 Matplotlib Visualizations"
   ]
  },
  {
   "cell_type": "code",
   "execution_count": null,
   "id": "be0d68de",
   "metadata": {},
   "outputs": [],
   "source": [
    "import matplotlib.pyplot as plt\n",
    "\n",
    "x = [1, 2, 3]\n",
    "y = [2, 4, 6]\n",
    "plt.plot(x, y)\n",
    "plt.title(\"Line Plot\")\n",
    "plt.xlabel(\"X Axis\")\n",
    "plt.ylabel(\"Y Axis\")\n",
    "plt.show()"
   ]
  },
  {
   "cell_type": "markdown",
   "id": "81589887",
   "metadata": {},
   "source": [
    "## 🔹 Mini Project: EDA on Tips Dataset\n",
    "\n",
    "Answer these questions using Pandas and visualizations:\n",
    "- What’s the average total bill per day?\n",
    "- What gender tips more?\n",
    "- Are smokers paying more?\n",
    "\n",
    "Include visualizations to support your answers."
   ]
  }
 ],
 "metadata": {},
 "nbformat": 4,
 "nbformat_minor": 5
}
